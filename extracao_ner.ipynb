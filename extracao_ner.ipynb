{
 "cells": [
  {
   "cell_type": "markdown",
   "metadata": {},
   "source": [
    "# Extração de Entidades Nomeadas em Prontuários Médicos\n",
    "\n",
    "Este notebook tem como objetivo realizar a extração de entidades nomeadas (NER - Named Entity Recognition) de arquivos PDF contendo prontuários médicos. Utilizamos o modelo en_ner_bc5cdr_md do spaCy, especializado na identificação de doenças e substâncias químicas, para processar o texto extraído dos PDFs.\n",
    "\n",
    "O fluxo do notebook inclui:\n",
    "\n",
    "- Extração de texto dos PDFs: Processa o texto bruto contido nos prontuários médicos.\n",
    "- Limpeza e normalização: Remove informações irrelevantes ou redundantes.\n",
    "- Aplicação de NER: Extrai entidades relevantes categorizadas como doenças (DISEASE) e substâncias químicas (CHEMICAL).\n",
    "- Filtragem e remoção de duplicatas: Garante que apenas entidades únicas sejam analisadas.\n",
    "- Análise dos resultados: Gera uma distribuição categórica das entidades extraídas e apresenta visualizações gráficas."
   ]
  },
  {
   "cell_type": "markdown",
   "metadata": {},
   "source": [
    "## 1. Importação das Bibliotecas\n",
    "\n",
    "Nesta etapa, importamos as bibliotecas essenciais para o processamento dos PDFs, a análise de entidades e a visualização dos resultados.\n",
    "\n",
    "- **spaCy**: Processamento de Linguagem Natural e extração de entidades.\n",
    "- **PyPDF2**: Leitura e extração de texto dos arquivos PDF.\n",
    "- **pandas**: Manipulação e organização dos dados extraídos.\n",
    "- **seaborn** e **matplotlib**: Criação de visualizações gráficas."
   ]
  },
  {
   "cell_type": "code",
   "execution_count": 1,
   "metadata": {},
   "outputs": [],
   "source": [
    "# Importações necessárias\n",
    "import re\n",
    "import spacy\n",
    "import pandas as pd\n",
    "from pathlib import Path\n",
    "from PyPDF2 import PdfReader\n",
    "import seaborn as sns\n",
    "import matplotlib.pyplot as plt"
   ]
  },
  {
   "cell_type": "markdown",
   "metadata": {},
   "source": [
    "## 2. Funções de Processamento\n",
    "\n",
    "Neste bloco, definimos funções para:\n",
    "1. Extrair o texto de arquivos PDF;\n",
    "2. Limpar o texto removendo entidades indesejadas;\n",
    "3. Aplicar o modelo de NER (Named Entity Recognition) usando o spaCy;\n",
    "4. Filtrar e remover duplicatas das entidades extraídas."
   ]
  },
  {
   "cell_type": "code",
   "execution_count": 2,
   "metadata": {},
   "outputs": [
    {
     "name": "stderr",
     "output_type": "stream",
     "text": [
      "c:\\Users\\Usuario\\Desktop\\NLP_in_EHR\\env\\Lib\\site-packages\\spacy\\language.py:2195: FutureWarning: Possible set union at position 6328\n",
      "  deserializers[\"tokenizer\"] = lambda p: self.tokenizer.from_disk(  # type: ignore[union-attr]\n"
     ]
    }
   ],
   "source": [
    "# Carregar modelo spaCy\n",
    "nlp = spacy.load(\"en_ner_bc5cdr_md\")\n",
    "\n",
    "def extract_text_from_pdf(pdf_path):\n",
    "    reader = PdfReader(pdf_path)\n",
    "    text = \"\"\n",
    "    for page in reader.pages:\n",
    "        text += page.extract_text()\n",
    "    return text\n",
    "\n",
    "def clean_text(content):\n",
    "    lines = content.split(\"\\n\")\n",
    "    cleaned_lines = []\n",
    "    for line in lines:\n",
    "        # Remover palavras específicas do texto que não são relevantes\n",
    "        if line.lower() in [\"diagnósticos definitivos\",\"doenças prévias\", \"mg\"]:\n",
    "            continue\n",
    "        cleaned_lines.append(line)\n",
    "    return \"\\n\".join(cleaned_lines)\n",
    "\n",
    "# Função para processar os textos com spaCy (NER)\n",
    "def process_text_with_ner(file_texts):\n",
    "    ner_results = {}\n",
    "    for file_name, content in file_texts.items():\n",
    "        doc = nlp(content)\n",
    "        entities = [(ent.text, ent.label_) for ent in doc.ents]\n",
    "        ner_results[file_name] = entities\n",
    "    return ner_results\n",
    "\n",
    "def clean_entities(entities):\n",
    "    cleaned = []\n",
    "    for text, label in entities:\n",
    "        # Remover informações entre parênteses\n",
    "        text_cleaned = re.sub(r\"\\(.*?\\)\", \"\", text).strip()\n",
    "        # Remover palavras específicas (como \"Início:\", \"Fim\")\n",
    "        text_cleaned = re.sub(r\"Início:.*?Fim|Início:.*?,|Fim.*?$\", \"\", text_cleaned).strip()\n",
    "        # Corrigir possíveis problemas de formatação residual\n",
    "        text_cleaned = re.sub(r\"[\\\"']\", \"\", text_cleaned).strip()\n",
    "        cleaned.append((text_cleaned, label))\n",
    "    return cleaned\n",
    "\n",
    "def filter_entities(entities):\n",
    "    filtered = []\n",
    "    for text, label in entities:\n",
    "        # Remover \"Diagnósticos Definitivos\", \"Doenças prévias\" e \"MG\" de qualquer rótulo\n",
    "        if text.lower() in [\"diagnósticos definitivos\", \"doenças prévias\", \"mg\"]:\n",
    "            continue\n",
    "        filtered.append((text, label))\n",
    "    return filtered\n",
    "\n",
    "def remove_duplicates(entities):\n",
    "    seen = set()\n",
    "    unique_entities = []\n",
    "    for text, label in entities:\n",
    "        normalized_text = text.lower()  # Normalize to lowercase\n",
    "        if (normalized_text, label) not in seen:\n",
    "            seen.add((normalized_text, label))\n",
    "            unique_entities.append((normalized_text, label))\n",
    "    return unique_entities\n",
    "    "
   ]
  },
  {
   "cell_type": "markdown",
   "metadata": {},
   "source": [
    "## 3. Carregando e Processando os Arquivos\n",
    "\n",
    "Aqui carregamos os arquivos PDF da pasta especificada, extraímos o texto de cada um e limpamos os textos removendo palavras irrelevantes. Em seguida, utilizamos o modelo spaCy para aplicar NER nos textos processados."
   ]
  },
  {
   "cell_type": "code",
   "execution_count": 3,
   "metadata": {},
   "outputs": [],
   "source": [
    "# Carregar os textos dos PDFs\n",
    "pdf_folder = Path(\"C:\\\\Users\\\\Usuario\\\\Desktop\\\\NLP_IN_EHR\\\\pdf_output\")\n",
    "all_texts = {file.name: extract_text_from_pdf(file) for file in pdf_folder.glob(\"*.pdf\")}\n",
    "\n",
    "cleaned_texts = {file: clean_text(content) for file, content in all_texts.items()}\n",
    "\n",
    "nlp = spacy.load(\"en_ner_bc5cdr_md\")\n",
    "\n",
    "ner_results = process_text_with_ner(cleaned_texts)\n",
    "\n",
    "filtered_results = {}\n",
    "for file_name, entities in ner_results.items():\n",
    "    entities_cleaned = clean_entities(entities)\n",
    "    entities_normalized = [(text.lower(), label) for text, label in entities_cleaned]  # Normalizar\n",
    "    filtered_results[file_name] = filter_entities(entities_normalized)  # Filtrar indesejadas"
   ]
  },
  {
   "cell_type": "markdown",
   "metadata": {},
   "source": [
    "## 4. Remover Duplicatas e Organizar os Resultados\n",
    "\n",
    "Agora vamos remover as duplicatas das entidades extraídas e organizar os resultados para análise."
   ]
  },
  {
   "cell_type": "code",
   "execution_count": 4,
   "metadata": {},
   "outputs": [
    {
     "name": "stdout",
     "output_type": "stream",
     "text": [
      "Resultados únicos salvos em ner_results_unique.csv\n"
     ]
    }
   ],
   "source": [
    "unique_results = {}\n",
    "for file_name, entities in filtered_results.items():\n",
    "    unique_results[file_name] = remove_duplicates(entities)\n",
    "\n",
    "# Organizar os resultados únicos em um DataFrame\n",
    "rows = []\n",
    "for file_name, entities in unique_results.items():\n",
    "    for text, label in entities:\n",
    "        rows.append({\"File\": file_name, \"Entity\": text, \"Label\": label})\n",
    "\n",
    "df_unique = pd.DataFrame(rows)\n",
    "\n",
    "# Salvar os resultados únicos no CSV\n",
    "output_path_unique = \"ner_results_unique.csv\"\n",
    "df_unique.to_csv(output_path_unique, index=False)\n",
    "print(f\"Resultados únicos salvos em {output_path_unique}\")"
   ]
  },
  {
   "cell_type": "markdown",
   "metadata": {},
   "source": [
    "## 5. Análise e Visualização dos Resultados\n",
    "\n",
    "Para compreender melhor a distribuição das categorias extraídas, criamos um gráfico de barras mostrando o número de ocorrências únicas de cada categoria (DISEASE e CHEMICAL). Linhas tracejadas indicam os valores máximos para facilitar a comparação visual."
   ]
  },
  {
   "cell_type": "code",
   "execution_count": 5,
   "id": "b2587d24",
   "metadata": {},
   "outputs": [
    {
     "name": "stdout",
     "output_type": "stream",
     "text": [
      "Label\n",
      "DISEASE     162\n",
      "CHEMICAL    151\n",
      "Name: count, dtype: int64\n"
     ]
    },
    {
     "data": {
      "image/png": "[encoded data removed]",
      "text/plain": [
       "<Figure size 800x600 with 1 Axes>"
      ]
     },
     "metadata": {},
     "output_type": "display_data"
    }
   ],
   "source": [
    "# Contagem de categorias para entidades únicas\n",
    "#label_counts_unique = df_unique[\"Label\"].value_counts()\n",
    "#print(label_counts_unique)\n",
    "\n",
    "unique_global = df_unique[[\"Entity\", \"Label\"]].drop_duplicates()\n",
    "label_counts_global = unique_global[\"Label\"].value_counts()\n",
    "print(label_counts_global)\n",
    "\n",
    "plot_data = unique_global[\"Label\"].value_counts().reset_index()\n",
    "plot_data.columns = [\"Label\", \"Frequency\"]\n",
    "\n",
    "plt.figure(figsize=(8, 6))\n",
    "sns.barplot(data=plot_data, x=\"Label\", y=\"Frequency\", hue=\"Label\", dodge=False)\n",
    "\n",
    "plt.axhline(y=162, color=\"red\", linestyle=\"--\", label=\"Topo DISEASE (162)\")\n",
    "\n",
    "plt.axhline(y=151, color=\"blue\", linestyle=\"--\", label=\"Topo CHEMICAL (151)\")\n",
    "\n",
    "plt.title(\"Distribuição de Categorias de Entidades Únicas\")\n",
    "plt.xlabel(\"Categoria\")\n",
    "plt.ylabel(\"Frequência\")\n",
    "plt.xticks(rotation=45)\n",
    "plt.legend()\n",
    "\n",
    "plt.show()"
   ]
  },
  {
   "cell_type": "markdown",
   "id": "251af2b3",
   "metadata": {},
   "source": [
    "## 6. Conclusão e Próximos Passos\n",
    "Neste notebook, conseguimos realizar a extração de texto de prontuários médicos em formato PDF, aplicar técnicas de NER usando o spaCy e identificar entidades categorizadas como DISEASE e CHEMICAL. Os resultados mostram:\n",
    "\n",
    "- Um total de 162 entidades únicas classificadas como DISEASE.\n",
    "- Um total de 151 entidades únicas classificadas como CHEMICAL.\n",
    "\n",
    "*Por que é relevante*:\n",
    "1. Foco em Doenças e Substâncias Químicas: Saber que as categorias mais comuns são DISEASE (162) e CHEMICAL (151) pode ser um indicativo de que os prontuários estão ricos em informações relacionadas a diagnósticos e medicamentos, que são dados críticos em um contexto clínico.\n",
    "\n",
    "2. Priorização de Análise: Essas categorias podem ser priorizadas em análises mais aprofundadas, como detecção de relações entre doenças e medicamentos ou padrões em tratamentos.\n",
    "\n",
    "3. Validação do Modelo: Se o objetivo é validar a eficiência do modelo de NER aplicado, essa contagem ajuda a mensurar a robustez da extração e verificar se os resultados estão alinhados com o esperado para prontuários médicos."
   ]
  }
 ],
 "metadata": {
  "kernelspec": {
   "display_name": "env",
   "language": "python",
   "name": "python3"
  },
  "language_info": {
   "codemirror_mode": {
    "name": "ipython",
    "version": 3
   },
   "file_extension": ".py",
   "mimetype": "text/x-python",
   "name": "python",
   "nbconvert_exporter": "python",
   "pygments_lexer": "ipython3",
   "version": "3.12.7"
  }
 },
 "nbformat": 4,
 "nbformat_minor": 5
}
